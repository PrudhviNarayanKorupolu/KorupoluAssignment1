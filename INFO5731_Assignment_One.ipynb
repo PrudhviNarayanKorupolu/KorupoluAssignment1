{
  "nbformat": 4,
  "nbformat_minor": 0,
  "metadata": {
    "colab": {
      "name": "INFO5731_Assignment_One.ipynb",
      "provenance": [],
      "collapsed_sections": [],
      "include_colab_link": true
    },
    "kernelspec": {
      "display_name": "Python 3",
      "language": "python",
      "name": "python3"
    },
    "language_info": {
      "codemirror_mode": {
        "name": "ipython",
        "version": 3
      },
      "file_extension": ".py",
      "mimetype": "text/x-python",
      "name": "python",
      "nbconvert_exporter": "python",
      "pygments_lexer": "ipython3",
      "version": "3.8.5"
    }
  },
  "cells": [
    {
      "cell_type": "markdown",
      "metadata": {
        "id": "view-in-github",
        "colab_type": "text"
      },
      "source": [
        "<a href=\"https://colab.research.google.com/github/PrudhviNarayanKorupolu/KorupoluAssignment1/blob/main/INFO5731_Assignment_One.ipynb\" target=\"_parent\"><img src=\"https://colab.research.google.com/assets/colab-badge.svg\" alt=\"Open In Colab\"/></a>"
      ]
    },
    {
      "cell_type": "markdown",
      "metadata": {
        "id": "Ryk8D1Q4Wsrp"
      },
      "source": [
        "# **INFO5731 Assignment One**"
      ]
    },
    {
      "cell_type": "markdown",
      "metadata": {
        "id": "90_NR8c5XGWc"
      },
      "source": [
        "# Question 1\n",
        "\n",
        "(20 points). Write a Python program to generate 12 random numbers between 1 and 100. Sort the list of numbers in ascending order and print it out. Sort the list of numbers in descending order and print it out. Calculate the average for the group and print it out."
      ]
    },
    {
      "cell_type": "code",
      "metadata": {
        "colab": {
          "base_uri": "https://localhost:8080/"
        },
        "id": "5QX6bJjGWXY9",
        "outputId": "8cd1efd4-ddb5-4b6a-fd68-cc2b8a683e99"
      },
      "source": [
        "import random\n",
        "randomlist = []\n",
        "for i in range(0,12):\n",
        " n= random.randint(1,100)\n",
        " randomlist.append(n)\n",
        "randomlist.sort(reverse=False)\n",
        "print(\"Ascending order\",randomlist)\n",
        "randomlist.sort(reverse=True)\n",
        "print(\"descending order\",randomlist)\n",
        "k=sum(randomlist)/len(randomlist)\n",
        "print(\"Average\",k)\n"
      ],
      "execution_count": 20,
      "outputs": [
        {
          "output_type": "stream",
          "name": "stdout",
          "text": [
            "Ascending order [22, 29, 32, 39, 52, 63, 67, 76, 82, 85, 89, 94]\n",
            "descending order [94, 89, 85, 82, 76, 67, 63, 52, 39, 32, 29, 22]\n",
            "Average 60.833333333333336\n"
          ]
        }
      ]
    },
    {
      "cell_type": "markdown",
      "metadata": {
        "id": "1F_PZdH9Sh49"
      },
      "source": [
        "# Question 2\n",
        "(25 points). Write a program that will do the following string formatting tasks:\n",
        "\n",
        "(1) Ask the user to enter two sentences.\n",
        "\n",
        "(2) Make each sentence into a list. Each element in the list should correspond to a word in the sentence. For example, if the sentence is \"Alas! Am I alive? This is my first python program\", the program should print out ['Alas, '!', 'Am', 'I', 'alive, '?', 'This', 'is', 'my', 'first', 'python', 'program'].\n",
        "\n",
        "(3) Compare the two sentences. Print out a list of words that occur in both sentences.\n",
        "\n",
        "(4) Remove any punctuation from the sentence and print it back out. It should remove at least the following characters, but it can remove more: period(“.”), comma (“,”), semicolon (“;”), and colon (“:”)\n",
        "\n",
        "(5) Count the number of vowels in the sentences. Print out each vowel and the number of times it appears in the sentences, such as: a:2, e:1, i:0, etc"
      ]
    },
    {
      "cell_type": "code",
      "metadata": {
        "colab": {
          "base_uri": "https://localhost:8080/"
        },
        "id": "Y0oOSlsOS0cq",
        "outputId": "b0d51571-5fe9-4c3c-a422-7038d03382b8"
      },
      "source": [
        "random=[]\n",
        "for i in range(0,2):\n",
        "  sentence = input(\"Enter a Sentence: \")\n",
        "  random.append(sentence)\n",
        "print(random)\n",
        "random1=random\n",
        "sentence1=random[0]\n",
        "sentence2=random[1]\n",
        "print(\"question 2\")\n",
        "import nltk\n",
        "from nltk import *\n",
        "from nltk.tokenize import word_tokenize\n",
        "nltk.download('punkt')\n",
        "random1= ' '.join(random1)\n",
        "new=[]\n",
        "new=word_tokenize(random1)\n",
        "print(new)\n",
        "\n",
        "\n",
        "print(\"question 3\")\n",
        "sentence1_1=[]\n",
        "sentence2_2=[]\n",
        "sentence1_1=word_tokenize(sentence1)\n",
        "sentence2_2=word_tokenize(sentence2)\n",
        "print(list(set(sentence1_1).intersection(sentence2_2)))\n",
        "\n",
        "\n",
        "\n",
        "print(\"question 4\")\n",
        "\n",
        "punc = '''!()-[]{};:'\"\\, <>./?@#$%^&*_~'''\n",
        "for i in sentence1:\n",
        "  if i in punc:\n",
        "    sentence1=sentence1.replace(i, \" \")\n",
        "for i in sentence2:\n",
        "  if i in punc:\n",
        "    sentence2=sentence2.replace(i, \" \")    \n",
        "       \n",
        "print(sentence1+\" \"+sentence2)\n",
        "new123=sentence1+sentence2\n",
        "print(\"question 5\")\n",
        "counta=0\n",
        "counte=0\n",
        "counti=0\n",
        "counto=0\n",
        "countu=0\n",
        "for w in new123:\n",
        "  if (w=='a' or w=='A'):\n",
        "    counta+=1\n",
        "  if (w=='e' or w=='E'):\n",
        "    counte+=1\n",
        "  if (w=='i' or w=='I'):\n",
        "    counti+=1\n",
        "  if (w=='o' or w=='O'):\n",
        "    counto+=1\n",
        "  if (w=='u' or w=='U'):\n",
        "    countu+=1\n",
        "print(\"a:\",counta,\"e:\",counte,\"i:\",counti,\"o:\",counto,\"u:\",countu)\n"
      ],
      "execution_count": 117,
      "outputs": [
        {
          "output_type": "stream",
          "name": "stdout",
          "text": [
            "Enter a Sentence: Alas! Am I alive? This is my first python program\n",
            "Enter a Sentence: alive\n",
            "['Alas! Am I alive? This is my first python program', 'alive']\n",
            "question 2\n",
            "[nltk_data] Downloading package punkt to /root/nltk_data...\n",
            "[nltk_data]   Package punkt is already up-to-date!\n",
            "['Alas', '!', 'Am', 'I', 'alive', '?', 'This', 'is', 'my', 'first', 'python', 'program', 'alive']\n",
            "question 3\n",
            "['alive']\n",
            "question 4\n",
            "Alas  Am I alive  This is my first python program alive\n",
            "question 5\n",
            "a: 6 e: 2 i: 6 o: 2 u: 0\n"
          ]
        }
      ]
    },
    {
      "cell_type": "markdown",
      "metadata": {
        "id": "CmFoI4jDS9nx"
      },
      "source": [
        "# Question 3 \n",
        "\n",
        "(15 points). The formula that describes the volume V of a sphere with radius r is the following:\n",
        "\n",
        "$ V=\\frac{4}{3}\\ast\\ \\pi\\ast\\ r^3 $\n",
        "\n",
        "Write a program to calculate the value of V when r is in the range of 1–10. Output the result in the following format:\n",
        "\n",
        "\tr\tV\n",
        "\t1\t…\n",
        "\t2\t…\n",
        "\t3\t…\n"
      ]
    },
    {
      "cell_type": "code",
      "metadata": {
        "colab": {
          "base_uri": "https://localhost:8080/"
        },
        "id": "pEyqeioAT95b",
        "outputId": "f161b002-1cb5-4f09-efde-2d13608cd80a"
      },
      "source": [
        "print(\"r\",\"v\")\n",
        "for i in range(1,11):\n",
        " \n",
        " print (i,((4/3) * 3.14) * i**3)\n",
        "\n"
      ],
      "execution_count": 61,
      "outputs": [
        {
          "output_type": "stream",
          "name": "stdout",
          "text": [
            "r v\n",
            "1 4.1866666666666665\n",
            "2 33.49333333333333\n",
            "3 113.03999999999999\n",
            "4 267.94666666666666\n",
            "5 523.3333333333334\n",
            "6 904.3199999999999\n",
            "7 1436.0266666666666\n",
            "8 2143.5733333333333\n",
            "9 3052.08\n",
            "10 4186.666666666667\n"
          ]
        }
      ]
    },
    {
      "cell_type": "code",
      "metadata": {
        "id": "pMCr3l8tnu0j"
      },
      "source": [
        ""
      ],
      "execution_count": null,
      "outputs": []
    },
    {
      "cell_type": "markdown",
      "metadata": {
        "id": "z3tBE7E-Xn5X"
      },
      "source": [
        "# Question 4\n",
        "\n",
        "(40 points). In the field of Data Science, data is often formatted as a comma-delimited (CSV) file, where each line in a file corresponds to a field's value. Refer to Chapter 9 (p. 106) for more information on comma-delimited files. To answer this question, you will need to download the file [Assignment1_denton_housing.csv](https://github.com/unt-iialab/info5731-fall2021/blob/main/assignments/Assignment1_denton_housing.csv) included with this assignment. The file [Assignment1_denton_housing.csv](https://github.com/unt-iialab/info5731-fall2021/blob/main/assignments/Assignment1_denton_housing.csv) contains statistics about housing in the city of Denton from 2008 to 2014. Write a program to implement the following questions.\n",
        "\n",
        "(1) (10 pts) Calculate the difference in the number of Occupied Housing Units from year to year and print it. The difference must be calculated for the consecutive years such as 2008-2009, 2009-2010 etc. Finally, print the values in the ascending order.\n",
        "\n",
        "(2) (10 pts) For all the years, calculate the percentage of housing units which are vacant an occupied. Print the results in the following format:\n",
        "\n",
        "Year Vacant Housing Units Occupied Housing Units\n",
        "\n",
        "    2008  30%   70%                          \n",
        "\t2009 ----- -----\n",
        "\t2010 ----- -----\n",
        "    2011 ----- -----\n",
        "\t2012 ----- -----\n",
        "    2013 ----- -----\n",
        "\t2014 ----- -----\n",
        "  \n",
        "  \n",
        "\n",
        "(3) (10 pts) Calculate and print the valued and years in which the highest number of housing units were vacant and occupied. Print the results in the following format:  \n",
        "\n",
        "                              Year\tValue\n",
        "\tVacant Housing Units\t  -----   -----\n",
        "\tOccupied Housing Units\t-----   -----\n",
        "\n",
        "(4) (10 pts) Calculate the harmonic mean of the total housing units and print it out. You can find the information about harmonic mean here: https://ncalculators.com/statistics/harmonic-mean-calculator.htm"
      ]
    },
    {
      "cell_type": "code",
      "metadata": {
        "colab": {
          "base_uri": "https://localhost:8080/"
        },
        "id": "lqGYuHBhcsRH",
        "outputId": "11358417-6ae1-4d01-da73-b4047ce8cb13"
      },
      "source": [
        "# Your code here\n",
        "#First Question\n",
        "import pandas as pd\n",
        "import math\n",
        "import csv\n",
        "occupied={} \n",
        "total={}\n",
        "emptys={}\n",
        "print(1)\n",
        "\n",
        "new1=[]\n",
        "new2=[]\n",
        "new3=[]\n",
        "new4=[]\n",
        "new5=[]\n",
        "new6=[]\n",
        "with open('Assignment1_denton_housing.csv') as csvfile:\n",
        "  reader=csv.DictReader(csvfile)\n",
        "  for row in reader:\n",
        "    if row['title_field']=='Occupied Housing Units':\n",
        "      #print('occupied',row['value'],row['year'])\n",
        "      occupied[row['year']]=row['value']\n",
        "\n",
        "for year in range(2008,2014):\n",
        "  new1=int(occupied[str(year)])-int(occupied[str(year+1)])\n",
        "  print(year,\"to\", year+1,\":\",new1)\n",
        "  new2.append(new1)\n",
        "  #asending order\n",
        "new2.sort(reverse=False)\n",
        "print(new2)\n",
        "\n",
        "print(2)\n",
        "\n",
        "with open('Assignment1_denton_housing.csv') as csvfile:\n",
        "  reader=csv.DictReader(csvfile)\n",
        "  for row in reader:\n",
        "    if row['title_field']=='Occupied Housing Units':\n",
        "      occupied[row['year']]=row['value']\n",
        "    elif row['title_field']=='Total Housing Units':\n",
        "      total[row['year']]=row['value']\n",
        "    elif row['title_field']=='Vacant Housing Units': \n",
        "      emptys[row['year']]=row['value']\n",
        "for year in range(2008,2015):\n",
        "  k=round(int(occupied[str(year)])*100/int(total[str(year)])) \n",
        "  j=round(int(emptys[str(year)])*100/int(total[str(year)]))\n",
        "  print(year,k,\"__\", j)\n",
        "print(3)\n",
        "for year in range(2008,2015):\n",
        "  new3=int(occupied[str(year)])\n",
        "  new4.append(new3) \n",
        "print(\"Occupied:\",max(new4),year) \n",
        "for k in range(2008,2015): \n",
        "  new5=int(emptys[str(k)])\n",
        "  new6.append(new5)\n",
        "\n",
        "with open('Assignment1_denton_housing.csv') as csvfile:\n",
        "  reader=csv.DictReader(csvfile)\n",
        "  for row in reader:\n",
        "   if row['value']==max(new6): \n",
        "    emptys[row['year']]=row['value']\n",
        "\n",
        "print(\"Houses   :\" ,max(new6),row['year'])\n",
        "\n",
        "\n",
        "\n",
        "\n",
        "\n",
        "\n",
        "\n",
        "print(4)\n",
        "sum=0\n",
        "for year in range(2008,2015):\n",
        "  sum=sum+int(total[str(year)])**-1\n",
        "print(\"Harmonic mean is: \",len(total)/sum)\n",
        "\n",
        "\n",
        "\n"
      ],
      "execution_count": 158,
      "outputs": [
        {
          "output_type": "stream",
          "name": "stdout",
          "text": [
            "1\n",
            "2008 to 2009 : 795\n",
            "2009 to 2010 : -5091\n",
            "2010 to 2011 : 303\n",
            "2011 to 2012 : -1404\n",
            "2012 to 2013 : -1565\n",
            "2013 to 2014 : -2622\n",
            "[-5091, -2622, -1565, -1404, 303, 795]\n",
            "2\n",
            "2008 89 __ 11\n",
            "2009 91 __ 9\n",
            "2010 92 __ 8\n",
            "2011 91 __ 9\n",
            "2012 93 __ 7\n",
            "2013 91 __ 9\n",
            "2014 94 __ 6\n",
            "3\n",
            "Occupied: 46295 2014\n",
            "Houses   : 4483 2008\n",
            "4\n",
            "Harmonic mean is:  44398.28543969185\n"
          ]
        }
      ]
    }
  ]
}